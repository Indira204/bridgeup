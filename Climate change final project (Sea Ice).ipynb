{
 "cells": [
  {
   "cell_type": "code",
   "execution_count": 1,
   "metadata": {
    "collapsed": true,
    "deletable": true,
    "editable": true
   },
   "outputs": [],
   "source": [
    "import matplotlib.pyplot as plt\n",
    "import numpy as np\n",
    "import csv"
   ]
  },
  {
   "cell_type": "code",
   "execution_count": 2,
   "metadata": {
    "collapsed": false,
    "deletable": true,
    "editable": true
   },
   "outputs": [],
   "source": [
    "csvFile = open(\"percent_sea_ice_Dec1_2007.csv\")\n",
    "csvReader = csv.reader(csvFile)\n",
    "sea_list = list(csvReader)"
   ]
  },
  {
   "cell_type": "code",
   "execution_count": 3,
   "metadata": {
    "collapsed": false,
    "deletable": true,
    "editable": true
   },
   "outputs": [
    {
     "name": "stdout",
     "output_type": "stream",
     "text": [
      "720\n"
     ]
    }
   ],
   "source": [
    "print(len(sea_list[0]))"
   ]
  },
  {
   "cell_type": "code",
   "execution_count": 4,
   "metadata": {
    "collapsed": false,
    "deletable": true,
    "editable": true
   },
   "outputs": [
    {
     "name": "stdout",
     "output_type": "stream",
     "text": [
      "360\n"
     ]
    }
   ],
   "source": [
    "print(len(sea_list))\n"
   ]
  },
  {
   "cell_type": "code",
   "execution_count": 5,
   "metadata": {
    "collapsed": true,
    "deletable": true,
    "editable": true
   },
   "outputs": [],
   "source": [
    "width = len(sea_list[0])\n",
    "height = len(sea_list)"
   ]
  },
  {
   "cell_type": "code",
   "execution_count": 6,
   "metadata": {
    "collapsed": true,
    "deletable": true,
    "editable": true
   },
   "outputs": [],
   "source": [
    "grid = np.empty([height, width, 3], dtype=np.uint8)"
   ]
  },
  {
   "cell_type": "code",
   "execution_count": 7,
   "metadata": {
    "collapsed": false,
    "deletable": true,
    "editable": true
   },
   "outputs": [],
   "source": [
    "all_values = []\n",
    "for r, row in enumerate(sea_list):\n",
    "    for c, value in enumerate(row):\n",
    "        if float(value) < 99999:\n",
    "            all_values.append(float(value)) # This is where we fill in the list with all data values\n",
    "        if float(value) <= 0:\n",
    "            grid[r, c] = [108, 166, 216] #[R, G, B]\n",
    "        elif float(value) <= 10:\n",
    "            grid[r, c] = [108, 166, 216]\n",
    "        elif float(value) <= 20:\n",
    "            grid[r, c] = [108, 166, 216]\n",
    "        elif float(value) <= 30:\n",
    "            grid[r, c] = [108, 166, 216]\n",
    "        elif float(value) <= 40:\n",
    "            grid[r, c] = [108, 166, 216]\n",
    "        elif float(value) <= 50:\n",
    "            grid[r, c] = [108, 166, 216]\n",
    "        elif float(value) <= 60:\n",
    "            grid[r, c] = [108, 166, 216]\n",
    "        elif float(value) <= 62:\n",
    "            grid[r, c] = [222, 237, 249]\n",
    "        elif float(value) <=64:\n",
    "            grid[r,c] = [222, 237, 249]\n",
    "        elif float(value) <= 66:\n",
    "            grid[r, c] = [222, 237, 249]\n",
    "        elif float(value) <= 68:\n",
    "            grid[r, c] = [222, 237, 249]\n",
    "        elif float(value) <= 70:\n",
    "            grid[r, c] = [222, 237, 249]\n",
    "        elif float(value) <= 72:\n",
    "            grid[r,c] = [222, 237, 249]\n",
    "        elif float(value) <= 74:\n",
    "            grid[r, c] = [222, 237, 249]\n",
    "        elif float(value) <= 76:\n",
    "            grid[r, c] = [222, 237, 249]\n",
    "        elif float(value) <= 78:\n",
    "            grid[r, c] = [222, 237, 249]\n",
    "        elif float(value) <= 80:\n",
    "            grid[r,c] = [222, 237, 249]\n",
    "        elif float(value) <= 82:\n",
    "            grid[r, c] = [222, 237, 249]\n",
    "        elif float(value) <= 84:\n",
    "            grid[r, c] = [222, 237, 249]\n",
    "        elif float(value) <= 86:\n",
    "            grid[r, c] = [222, 237, 249]\n",
    "        elif float(value) <= 88:\n",
    "            grid[r, c] = [222, 237, 249]\n",
    "        elif float(value) <= 90:\n",
    "            grid[r, c] = [222, 237, 249]\n",
    "        elif float(value) <= 92:\n",
    "            grid[r, c] = [222, 237, 249]\n",
    "        elif float(value) <= 94:\n",
    "            grid[r, c] = [222, 237, 249]\n",
    "        elif float(value) <= 96:\n",
    "            grid[r, c] = [222, 237, 249]\n",
    "        elif float(value) <= 98:\n",
    "            grid[r, c] = [222, 237, 249]\n",
    "        elif float(value) <= 100:\n",
    "            grid[r, c] = [108, 166, 216]\n",
    "        else:\n",
    "            grid[r, c] = [232, 242, 247] \n",
    "            "
   ]
  },
  {
   "cell_type": "code",
   "execution_count": 8,
   "metadata": {
    "collapsed": false,
    "deletable": true,
    "editable": true
   },
   "outputs": [
    {
     "name": "stdout",
     "output_type": "stream",
     "text": [
      "0.0\n",
      "100.0\n"
     ]
    }
   ],
   "source": [
    "print(min(all_values))\n",
    "print(max(all_values))"
   ]
  },
  {
   "cell_type": "code",
   "execution_count": 9,
   "metadata": {
    "collapsed": false,
    "deletable": true,
    "editable": true,
    "scrolled": true
   },
   "outputs": [
    {
     "data": {
      "image/png": "[encoded data removed]",
      "text/plain": [
       "<matplotlib.figure.Figure at 0x118bdcb38>"
      ]
     },
     "metadata": {},
     "output_type": "display_data"
    }
   ],
   "source": [
    "plt.title(\"percent_sea_ice_Dec1_2007\")\n",
    "plt.imshow(grid)\n",
    "plt.axis('off')\n",
    "plt.savefig(\"percent_sea_ice_2007\",dpi = 1000)\n",
    "plt.show()"
   ]
  },
  {
   "cell_type": "code",
   "execution_count": null,
   "metadata": {
    "collapsed": true,
    "deletable": true,
    "editable": true
   },
   "outputs": [],
   "source": []
  }
 ],
 "metadata": {
  "kernelspec": {
   "display_name": "Python 3",
   "language": "python",
   "name": "python3"
  },
  "language_info": {
   "codemirror_mode": {
    "name": "ipython",
    "version": 3
   },
   "file_extension": ".py",
   "mimetype": "text/x-python",
   "name": "python",
   "nbconvert_exporter": "python",
   "pygments_lexer": "ipython3",
   "version": "3.5.2"
  }
 },
 "nbformat": 4,
 "nbformat_minor": 2
}
