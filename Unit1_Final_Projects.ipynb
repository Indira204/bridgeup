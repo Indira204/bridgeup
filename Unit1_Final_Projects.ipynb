{
 "cells": [
  {
   "cell_type": "markdown",
   "metadata": {
    "deletable": true,
    "editable": true
   },
   "source": [
    "# Analyzing your experimental data\n",
    "\n",
    "Use this Jupyter Notebook to analyze the data from your experiment"
   ]
  },
  {
   "cell_type": "markdown",
   "metadata": {
    "deletable": true,
    "editable": true
   },
   "source": [
    "Put your data into one or more list as relevant for your experiment (one sample, one list; two samples, two lists):"
   ]
  },
  {
   "cell_type": "code",
   "execution_count": 12,
   "metadata": {
    "collapsed": false,
    "deletable": true,
    "editable": true
   },
   "outputs": [
    {
     "name": "stdout",
     "output_type": "stream",
     "text": [
      "[5.33, 4.29, 4.33, 3.58, 4.64, 5.23, 4.32, 4.17, 3.94, 4.3, 5.0, 5.64, 4.02, 7.86, 3.35, 4.28, 2.69, 7.76, 3.57, 4.63, 7.38, 7.69, 7.2, 5.93, 7.14, 9.55, 9.95, 6.87, 8.51, 6.35, 7.3, 7.15, 7.53, 8.05, 8.03, 7.62, 2.69, 11.04, 11.62, 9.26]\n"
     ]
    }
   ],
   "source": [
    "corresponding = [5.33, 4.29, 4.33, 3.58, 4.64, 5.23, 4.32, 4.17, 3.94, 4.30, 5.00, 5.64, 4.02, 7.86, 3.35, 4.28, 2.69, 7.76, 3.57, 4.63]\n",
    "opposite = [7.38, 7.69, 7.20, 5.93, 7.14, 9.55, 9.95, 6.87, 8.51, 6.35, 7.30, 7.15, 7.53, 8.05, 8.03, 7.62, 2.69, 11.04, 11.62, 9.26]\n",
    "print(corresponding+opposite)"
   ]
  },
  {
   "cell_type": "markdown",
   "metadata": {
    "deletable": true,
    "editable": true
   },
   "source": [
    "Consider how you can loops and/or conditionals to analyze your data. Use the cell below to do so if you think this would be helpful:"
   ]
  },
  {
   "cell_type": "code",
   "execution_count": 11,
   "metadata": {
    "collapsed": false,
    "deletable": true,
    "editable": true
   },
   "outputs": [
    {
     "name": "stdout",
     "output_type": "stream",
     "text": [
      "5.33\n",
      "4.29\n",
      "4.33\n",
      "3.58\n",
      "4.64\n",
      "5.23\n",
      "4.32\n",
      "4.17\n",
      "3.94\n",
      "4.3\n",
      "5.0\n",
      "5.64\n",
      "4.02\n",
      "7.86\n",
      "3.35\n",
      "4.28\n",
      "2.69\n",
      "7.76\n",
      "3.57\n",
      "4.63\n"
     ]
    }
   ],
   "source": [
    "\n",
    "    "
   ]
  },
  {
   "cell_type": "markdown",
   "metadata": {
    "deletable": true,
    "editable": true
   },
   "source": [
    "Now find the mean of your dataset(s). Hint: You will need to import numpy."
   ]
  },
  {
   "cell_type": "code",
   "execution_count": 27,
   "metadata": {
    "collapsed": true
   },
   "outputs": [],
   "source": [
    "import numpy as np\n",
    "cor_mean = np.mean(corresponding)\n",
    "op_mean = np.mean(opposite)"
   ]
  },
  {
   "cell_type": "code",
   "execution_count": 1,
   "metadata": {
    "collapsed": true,
    "deletable": true,
    "editable": true
   },
   "outputs": [],
   "source": []
  },
  {
   "cell_type": "markdown",
   "metadata": {
    "deletable": true,
    "editable": true
   },
   "source": [
    "Next, find the standard deviation and variance using the np.std() and np.var() functions."
   ]
  },
  {
   "cell_type": "code",
   "execution_count": 30,
   "metadata": {
    "collapsed": false,
    "deletable": true,
    "editable": true
   },
   "outputs": [],
   "source": [
    "cor_std = np.std(corresponding)\n",
    "cor_var =np.var(corresponding)\n",
    "op_std =np.std(opposite)\n",
    "op_var =np.var(opposite)\n"
   ]
  },
  {
   "cell_type": "markdown",
   "metadata": {
    "deletable": true,
    "editable": true
   },
   "source": [
    "Now, find your t-value. Use the relevant code below:"
   ]
  },
  {
   "cell_type": "code",
   "execution_count": null,
   "metadata": {
    "collapsed": true,
    "deletable": true,
    "editable": true
   },
   "outputs": [],
   "source": [
    "#one sample t-test\n",
    "from scipy import stats\n",
    "print(stats.ttest_1samp(data_list, pop_mean))"
   ]
  },
  {
   "cell_type": "code",
   "execution_count": 14,
   "metadata": {
    "collapsed": false,
    "deletable": true,
    "editable": true
   },
   "outputs": [
    {
     "name": "stdout",
     "output_type": "stream",
     "text": [
      "Ttest_indResult(statistic=6.1916290434447792, pvalue=3.1085564568672328e-07)\n"
     ]
    }
   ],
   "source": [
    "#two sample t-test\n",
    "from scipy import stats\n",
    "print(stats.ttest_ind(opposite, corresponding))\n"
   ]
  },
  {
   "cell_type": "code",
   "execution_count": null,
   "metadata": {
    "collapsed": true
   },
   "outputs": [],
   "source": [
    "print(m.h())"
   ]
  },
  {
   "cell_type": "markdown",
   "metadata": {
    "deletable": true,
    "editable": true
   },
   "source": [
    "Next, it's time to make a graph that visualizes your results. You can create a histogram for your datasets using matplotlib:"
   ]
  },
  {
   "cell_type": "code",
   "execution_count": 29,
   "metadata": {
    "collapsed": false,
    "deletable": true,
    "editable": true,
    "scrolled": true
   },
   "outputs": [],
   "source": [
    "import matplotlib.pyplot as plt\n",
    "\n",
    "plt.clf()\n",
    "# corresponding histogram\n",
    "plt.hist(corresponding, 12, range = [2,8])\n",
    "\n",
    "# stroop test\n",
    "plt.suptitle(\"corresponding data\")\n",
    "plt.xlabel(\"people\")\n",
    "plt.ylabel(\"time\")\n",
    "\n",
    "#plt.show()\n",
    "\n",
    "# Show the graph\n",
    "plt.savefig(\"corresponding_histogram.png\")\n",
    "\n",
    "\n"
   ]
  },
  {
   "cell_type": "code",
   "execution_count": 24,
   "metadata": {
    "collapsed": false
   },
   "outputs": [],
   "source": [
    "plt.clf()\n",
    "# Create a histogram\n",
    "plt.hist(opposite, 12, range = [2,12])\n",
    "\n",
    "# stroop test\n",
    "plt.suptitle(\"opposite data\")\n",
    "plt.xlabel(\"people\")\n",
    "plt.ylabel(\"time\")\n",
    "\n",
    "\n",
    "# Show the graph\n",
    "plt.savefig(\"image_name.png\")\n"
   ]
  },
  {
   "cell_type": "markdown",
   "metadata": {
    "deletable": true,
    "editable": true
   },
   "source": [
    "If you want to make another kind of graph, ask for help!"
   ]
  },
  {
   "cell_type": "code",
   "execution_count": 35,
   "metadata": {
    "collapsed": false
   },
   "outputs": [
    {
     "data": {
      "image/png": "[encoded data removed]",
      "text/plain": [
       "<matplotlib.figure.Figure at 0x11e1e1358>"
      ]
     },
     "metadata": {},
     "output_type": "display_data"
    }
   ],
   "source": [
    "plt.clf()\n",
    "plt.bar(1,cor_mean,yerr= cor_std, capsize = 5)\n",
    "plt.bar(2,op_mean,yerr= op_std, capsize = 5)\n",
    "plt.show()\n"
   ]
  },
  {
   "cell_type": "code",
   "execution_count": null,
   "metadata": {
    "collapsed": true
   },
   "outputs": [],
   "source": []
  }
 ],
 "metadata": {
  "kernelspec": {
   "display_name": "Python 3",
   "language": "python",
   "name": "python3"
  },
  "language_info": {
   "codemirror_mode": {
    "name": "ipython",
    "version": 3
   },
   "file_extension": ".py",
   "mimetype": "text/x-python",
   "name": "python",
   "nbconvert_exporter": "python",
   "pygments_lexer": "ipython3",
   "version": "3.5.2"
  }
 },
 "nbformat": 4,
 "nbformat_minor": 2
}
